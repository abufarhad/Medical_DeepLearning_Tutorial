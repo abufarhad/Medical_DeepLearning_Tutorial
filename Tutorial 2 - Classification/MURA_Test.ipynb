{
 "cells": [
  {
   "cell_type": "markdown",
   "metadata": {},
   "source": [
    "# Tutorial 2 - Classification (Test)"
   ]
  },
  {
   "cell_type": "markdown",
   "metadata": {},
   "source": [
    "## Open Dataset : MURA Dataset (Ver 1.0)"
   ]
  },
  {
   "cell_type": "markdown",
   "metadata": {},
   "source": [
    "- MUsculoskeletal RAdiographs (Bone X-rays)         \n",
    "- https://stanfordmlgroup.github.io/competitions/mura/\n",
    "- https://arxiv.org/abs/1712.06957"
   ]
  },
  {
   "cell_type": "code",
   "execution_count": 1,
   "metadata": {},
   "outputs": [
    {
     "name": "stderr",
     "output_type": "stream",
     "text": [
      "Using TensorFlow backend.\n"
     ]
    }
   ],
   "source": [
    "# Python 3.6\n",
    "from __future__ import absolute_import, division, print_function\n",
    "import os\n",
    "import numpy as np\n",
    "import h5py\n",
    "\n",
    "\n",
    "import matplotlib.pyplot as plt\n",
    "import scipy.ndimage as ndimage\n",
    "import skimage\n",
    "import scipy.io as sio\n",
    "\n",
    "import keras\n",
    "from keras.layers import Input\n",
    "\n",
    "import keras.applications.inception_v3 as inception_v3\n",
    "from keras.preprocessing.image import ImageDataGenerator\n",
    "from keras.models import Sequential, load_model\n",
    "from keras.callbacks import  ModelCheckpoint, CSVLogger, ReduceLROnPlateau\n",
    "import tensorflow as tf\n",
    "\n",
    "from utils.custom_generator import custom_image_generator\n"
   ]
  },
  {
   "cell_type": "markdown",
   "metadata": {},
   "source": [
    "## Parameter Setting"
   ]
  },
  {
   "cell_type": "code",
   "execution_count": 3,
   "metadata": {},
   "outputs": [
    {
     "name": "stdout",
     "output_type": "stream",
     "text": [
      "*Network Input Size: 64x64x64\n"
     ]
    }
   ],
   "source": [
    "########################################################################\n",
    "########################################################################\n",
    "save_date = '1022'\n",
    "# num_classes = 7 ## 14\n",
    "########################################################################\n",
    "########################################################################\n"
   ]
  },
  {
   "cell_type": "markdown",
   "metadata": {},
   "source": [
    "## Path Setting"
   ]
  },
  {
   "cell_type": "code",
   "execution_count": 2,
   "metadata": {},
   "outputs": [],
   "source": [
    "datapath = '../Dataset/MURA-v1.0/h5py/batch/'\n",
    "\n",
    "\n",
    "save_path = os.path.join(os.getcwd(), 'Result/saved_model')\n",
    "if not os.path.isdir(save_path):\n",
    "    os.makedirs(save_path)    \n",
    "model_path = os.path.join(save_path, model_name)\n",
    "\n",
    "tf_graph_path = './Result/tf_graph/'    \n",
    "if not os.path.isdir(tf_graph_path):\n",
    "    os.makedirs(tf_graph_path)   \n",
    "    \n",
    "graph_path = './Result/graph_log/'    \n",
    "if not os.path.isdir(graph_path):\n",
    "    os.makedirs(graph_path)   "
   ]
  },
  {
   "cell_type": "markdown",
   "metadata": {},
   "source": [
    "## Load Test Dataset"
   ]
  },
  {
   "cell_type": "code",
   "execution_count": null,
   "metadata": {},
   "outputs": [],
   "source": []
  },
  {
   "cell_type": "code",
   "execution_count": 4,
   "metadata": {},
   "outputs": [
    {
     "name": "stdout",
     "output_type": "stream",
     "text": [
      "(505, 64, 64, 64, 1)\n",
      "(505, 2)\n",
      "* Test Number of Datasets: 505\n"
     ]
    }
   ],
   "source": [
    "extraval = h5py.File(datapath +'DataExtra.h5', 'r')\n",
    "extimg = extraval['imgsExtra']\n",
    "X_test = np.array(extimg)\n",
    "extlabel = extraval['labelExtra']\n",
    "y_test = np.array(extlabel)\n",
    "\n",
    "print(np.shape(X_test))\n",
    "print(np.shape(y_test))\n",
    "print(\"* Test Number of Datasets: \" + str(len(X_test)))"
   ]
  },
  {
   "cell_type": "markdown",
   "metadata": {},
   "source": [
    "## Load Trained Model"
   ]
  },
  {
   "cell_type": "code",
   "execution_count": 6,
   "metadata": {},
   "outputs": [],
   "source": [
    "#####################################################################################\n",
    "#####################################################################################\n",
    "trained_model = load_model('../Result/saved_model/MURA_Inception_v3_1022_batch1.h5')\n",
    "#####################################################################################\n",
    "#####################################################################################"
   ]
  },
  {
   "cell_type": "markdown",
   "metadata": {},
   "source": [
    "## Prediction"
   ]
  },
  {
   "cell_type": "code",
   "execution_count": null,
   "metadata": {},
   "outputs": [
    {
     "name": "stdout",
     "output_type": "stream",
     "text": [
      "-- Predict --\n"
     ]
    }
   ],
   "source": [
    "from sklearn import metrics\n",
    "from sklearn.metrics import accuracy_score\n",
    "    \n",
    "print(\"*** Predictction ***\")\n",
    "y_pred_temp = trained_model.predict(X_test, verbose=0)\n",
    "\n",
    "y_pred = []\n",
    "y_pred_prob0 =[]\n",
    "y_pred_prob1 =[]\n",
    "y_pred_prob2 =[]\n",
    "y_pred_prob3 =[]\n",
    "y_pred_prob4 =[]\n",
    "y_pred_prob5 =[]\n",
    "y_pred_prob6 =[]\n",
    "\n",
    "\n",
    "for i in range(len(y_pred_temp)):\n",
    "    y_pred.append(np.argmax(y_pred_temp[i], axis=None, out=None))\n",
    "    y_pred_prob0.append(round(y_pred_temp[i,0], 3))\n",
    "    y_pred_prob1.append(round(y_pred_temp[i,1], 3))\n",
    "    y_pred_prob2.append(round(y_pred_temp[i,2], 3))\n",
    "    y_pred_prob3.append(round(y_pred_temp[i,3], 3))\n",
    "    y_pred_prob4.append(round(y_pred_temp[i,4], 3))\n",
    "    y_pred_prob5.append(round(y_pred_temp[i,5], 3))\n",
    "    y_pred_prob6.append(round(y_pred_temp[i,6], 3))\n",
    "\n",
    "\n",
    "### One-hot decoding\n",
    "y_test_mod = []\n",
    "for i in range(len(y_test)):\n",
    "    if y_test[i][0] == 0:\n",
    "        val = 1\n",
    "        y_test_mod.append(val)\n",
    "    else:\n",
    "        val = 0\n",
    "        y_test_mod.append(val)\n",
    "\n",
    "print(\"\\n***** Prediction Complete *****\")"
   ]
  },
  {
   "cell_type": "markdown",
   "metadata": {},
   "source": [
    "## Evaluation"
   ]
  },
  {
   "cell_type": "code",
   "execution_count": null,
   "metadata": {},
   "outputs": [],
   "source": [
    "\"\"\" Confusion Matrix \"\"\"\n",
    "confusion = metrics.confusion_matrix(y_test_mod, y_pred)\n",
    "print(confusion)\n",
    "\n",
    "TP = confusion[1, 1]\n",
    "TN = confusion[0, 0]\n",
    "FP = confusion[0, 1]\n",
    "FN = confusion[1, 0]\n",
    "\n",
    "\"\"\" Accuracy \"\"\"\n",
    "print(\"Accuracy: \", round(((TP + TN)/(TP + TN + FP + FN))*100, 2))\n",
    "\n",
    "\"\"\" Sensitivity \"\"\"\n",
    "sensitivity = round((TP/(FN+TP))*100, 2)\n",
    "print(\"Sensitivity: \", sensitivity)\n",
    "\n",
    "\"\"\" Specificity \"\"\"\n",
    "specificity = round((TN/(TN+FP))*100, 2)\n",
    "print(\"Specificity: \", specificity)\n",
    "\n",
    "\"\"\" AUC \"\"\"\n",
    "roc_auc = metrics.auc(fpr, tpr)\n",
    "print(\"AUC: \", round(roc_auc, 2))\n",
    "\n",
    "\"\"\" PPV \"\"\"\n",
    "PPV = round((TP/(TP+FP))*100, 2)\n",
    "print(\"PPV: \", PPV)\n",
    "\n",
    "\"\"\" NPV \"\"\"\n",
    "NPV = round((TN/(TN+FN))*100, 2)\n",
    "print(\"NPV: \", NPV)\n"
   ]
  },
  {
   "cell_type": "markdown",
   "metadata": {},
   "source": [
    "## Save Result (.csv)"
   ]
  },
  {
   "cell_type": "code",
   "execution_count": null,
   "metadata": {},
   "outputs": [],
   "source": [
    "###################################################################\n",
    "##################################################################\n",
    "lists = [ID, y_pred_prob0, y_pred_prob1, y_pred_prob2, y_pred_prob3, y_pred_prob4, y_pred_prob5, y_pred_prob6, y_pred, y_test_mod]\n",
    "export_data = zip_longest(*lists, fillvalue = '')\n",
    "with open('../Result/result_csv/extra_image_result1.csv', 'w') as f:\n",
    "    writer = csv.writer(f)\n",
    "    writer.writerow((\"ID\", \"Prob0\", \"Prob1\", \"Prob2\", \"Prob3\", \"Prob4\", \"Prob5\", \"Prob6\", \"Pred\", \"GT\"))\n",
    "    writer.writerows(export_data)\n",
    "###################################################################\n",
    "###################################################################"
   ]
  },
  {
   "cell_type": "markdown",
   "metadata": {},
   "source": [
    "## Check Result"
   ]
  },
  {
   "cell_type": "code",
   "execution_count": null,
   "metadata": {},
   "outputs": [],
   "source": [
    "Test_csv_result = pd.read_csv(\"../Result/result_csv/Batch1.csv\")\n",
    "Test_csv_result.tail(100)"
   ]
  }
 ],
 "metadata": {
  "kernelspec": {
   "display_name": "Python 3",
   "language": "python",
   "name": "python3"
  },
  "language_info": {
   "codemirror_mode": {
    "name": "ipython",
    "version": 3
   },
   "file_extension": ".py",
   "mimetype": "text/x-python",
   "name": "python",
   "nbconvert_exporter": "python",
   "pygments_lexer": "ipython3",
   "version": "3.6.4"
  }
 },
 "nbformat": 4,
 "nbformat_minor": 2
}
