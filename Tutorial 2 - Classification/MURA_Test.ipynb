{
 "cells": [
  {
   "cell_type": "markdown",
   "metadata": {},
   "source": [
    "# Tutorial 2 - Classification (Test)"
   ]
  },
  {
   "cell_type": "markdown",
   "metadata": {},
   "source": [
    "## Open Dataset : MURA Dataset (Ver 1.0)"
   ]
  },
  {
   "cell_type": "markdown",
   "metadata": {},
   "source": [
    "- MUsculoskeletal RAdiographs (Bone X-rays)         \n",
    "- https://stanfordmlgroup.github.io/competitions/mura/\n",
    "- https://arxiv.org/abs/1712.06957"
   ]
  },
  {
   "cell_type": "code",
   "execution_count": 1,
   "metadata": {},
   "outputs": [
    {
     "name": "stderr",
     "output_type": "stream",
     "text": [
      "Using TensorFlow backend.\n"
     ]
    }
   ],
   "source": [
    "# Python 3.6\n",
    "from __future__ import absolute_import, division, print_function\n",
    "import os\n",
    "import numpy as np\n",
    "import h5py\n",
    "import matplotlib.pyplot as plt\n",
    "\n",
    "import keras\n",
    "from keras.layers import Input\n",
    "\n",
    "import keras.applications.inception_v3 as inception_v3\n",
    "from keras.models import Sequential, load_model\n",
    "from keras.callbacks import  ModelCheckpoint, CSVLogger, ReduceLROnPlateau\n",
    "import tensorflow as tf\n"
   ]
  },
  {
   "cell_type": "markdown",
   "metadata": {},
   "source": [
    "## Parameter Setting"
   ]
  },
  {
   "cell_type": "code",
   "execution_count": 2,
   "metadata": {},
   "outputs": [],
   "source": [
    "########################################################################\n",
    "########################################################################\n",
    "save_date = '1022'\n",
    "save_csv = 'batch.csv'\n",
    "model_name = 'MURA_Inception_v3_1022_batch1.h5'\n",
    "########################################################################\n",
    "########################################################################"
   ]
  },
  {
   "cell_type": "markdown",
   "metadata": {},
   "source": [
    "## Path Setting"
   ]
  },
  {
   "cell_type": "code",
   "execution_count": 3,
   "metadata": {},
   "outputs": [],
   "source": [
    "datapath = '../Dataset/MURA-v1.0/h5py/batch/'\n",
    "\n",
    "\n",
    "save_path = os.path.join(os.getcwd(), 'Result/saved_model')\n",
    "if not os.path.isdir(save_path):\n",
    "    os.makedirs(save_path)    \n",
    "\n",
    "\n",
    "tf_graph_path = './Result/tf_graph/'    \n",
    "if not os.path.isdir(tf_graph_path):\n",
    "    os.makedirs(tf_graph_path)   \n",
    "    \n",
    "graph_path = './Result/graph_log/'    \n",
    "if not os.path.isdir(graph_path):\n",
    "    os.makedirs(graph_path)   "
   ]
  },
  {
   "cell_type": "markdown",
   "metadata": {},
   "source": [
    "## Load Test Dataset"
   ]
  },
  {
   "cell_type": "code",
   "execution_count": 4,
   "metadata": {},
   "outputs": [
    {
     "name": "stdout",
     "output_type": "stream",
     "text": [
      "(7428, 299, 299, 3)\n",
      "(7428, 7)\n"
     ]
    }
   ],
   "source": [
    "val = h5py.File(datapath +'Validation.h5', 'r')\n",
    "X_test = val['Image']\n",
    "X_test = np.array(X_test)\n",
    "y_test = val['Label']\n",
    "y_test = np.array(y_test)\n",
    "\n",
    "print(np.shape(X_test))\n",
    "print(np.shape(y_test))"
   ]
  },
  {
   "cell_type": "markdown",
   "metadata": {},
   "source": [
    "## Load Trained Model"
   ]
  },
  {
   "cell_type": "code",
   "execution_count": 5,
   "metadata": {},
   "outputs": [],
   "source": [
    "#####################################################################################\n",
    "#####################################################################################\n",
    "trained_model = load_model('./Result/saved_model/' + model_name)\n",
    "#####################################################################################\n",
    "#####################################################################################"
   ]
  },
  {
   "cell_type": "markdown",
   "metadata": {},
   "source": [
    "## Prediction"
   ]
  },
  {
   "cell_type": "code",
   "execution_count": 14,
   "metadata": {},
   "outputs": [
    {
     "name": "stdout",
     "output_type": "stream",
     "text": [
      "*** Predictction ***\n",
      "\n",
      "***** Prediction Complete *****\n"
     ]
    }
   ],
   "source": [
    "from sklearn import metrics\n",
    "from sklearn.metrics import accuracy_score\n",
    "    \n",
    "print(\"*** Predictction ***\")\n",
    "y_pred_temp = trained_model.predict(X_test, verbose=0)\n",
    "\n",
    "y_pred = []\n",
    "y_pred_prob0 =[]\n",
    "y_pred_prob1 =[]\n",
    "y_pred_prob2 =[]\n",
    "y_pred_prob3 =[]\n",
    "y_pred_prob4 =[]\n",
    "y_pred_prob5 =[]\n",
    "y_pred_prob6 =[]\n",
    "\n",
    "\n",
    "for i in range(len(y_pred_temp)):\n",
    "    y_pred.append(np.argmax(y_pred_temp[i], axis=None, out=None))\n",
    "    y_pred_prob0.append(round(y_pred_temp[i,0], 3))\n",
    "    y_pred_prob1.append(round(y_pred_temp[i,1], 3))\n",
    "    y_pred_prob2.append(round(y_pred_temp[i,2], 3))\n",
    "    y_pred_prob3.append(round(y_pred_temp[i,3], 3))\n",
    "    y_pred_prob4.append(round(y_pred_temp[i,4], 3))\n",
    "    y_pred_prob5.append(round(y_pred_temp[i,5], 3))\n",
    "    y_pred_prob6.append(round(y_pred_temp[i,6], 3))\n",
    "\n",
    "\n",
    "### One-hot decoding\n",
    "y_test_mod = []\n",
    "for i in range(len(y_test)):\n",
    "    if y_test[i][0] == 1:\n",
    "        y_test_mod.append(0)\n",
    "    elif y_test[i][1] == 1:\n",
    "        y_test_mod.append(1)\n",
    "    elif y_test[i][2] == 1:\n",
    "        y_test_mod.append(2)\n",
    "    elif y_test[i][3] == 1:\n",
    "        y_test_mod.append(3)        \n",
    "    elif y_test[i][4] == 1:\n",
    "        y_test_mod.append(4)        \n",
    "    elif y_test[i][5] == 1:\n",
    "        y_test_mod.append(5)                \n",
    "    elif y_test[i][6] == 1:\n",
    "        y_test_mod.append(6)                        \n",
    "\n",
    "print(\"\\n***** Prediction Complete *****\")"
   ]
  },
  {
   "cell_type": "markdown",
   "metadata": {},
   "source": [
    "## Evaluation"
   ]
  },
  {
   "cell_type": "code",
   "execution_count": 15,
   "metadata": {},
   "outputs": [
    {
     "name": "stdout",
     "output_type": "stream",
     "text": [
      "[[ 917    1   20    2   29   28    5]\n",
      " [   2  979    3   23    5    5    6]\n",
      " [   6    6  334    2   19    2    3]\n",
      " [   1   39    0 1048    0    2   19]\n",
      " [   9    2   10    0  223   24    0]\n",
      " [  10    0    1    0   20 1659    2]\n",
      " [   3   23   31   29    6   17 1853]]\n",
      "Accuracy:  99.84\n",
      "Sensitivity:  99.8\n",
      "Specificity:  99.89\n",
      "PPV:  99.9\n",
      "NPV:  99.78\n"
     ]
    }
   ],
   "source": [
    "\"\"\" Confusion Matrix \"\"\"\n",
    "confusion = metrics.confusion_matrix(y_test_mod, y_pred)\n",
    "print(confusion)\n",
    "\n",
    "TP = confusion[1, 1]\n",
    "TN = confusion[0, 0]\n",
    "FP = confusion[0, 1]\n",
    "FN = confusion[1, 0]\n",
    "\n",
    "\"\"\" Accuracy \"\"\"\n",
    "print(\"Accuracy: \", round(((TP + TN)/(TP + TN + FP + FN))*100, 2))\n",
    "\n",
    "\"\"\" Sensitivity \"\"\"\n",
    "sensitivity = round((TP/(FN+TP))*100, 2)\n",
    "print(\"Sensitivity: \", sensitivity)\n",
    "\n",
    "\"\"\" Specificity \"\"\"\n",
    "specificity = round((TN/(TN+FP))*100, 2)\n",
    "print(\"Specificity: \", specificity)\n",
    "\n",
    "\"\"\" PPV \"\"\"\n",
    "PPV = round((TP/(TP+FP))*100, 2)\n",
    "print(\"PPV: \", PPV)\n",
    "\n",
    "\"\"\" NPV \"\"\"\n",
    "NPV = round((TN/(TN+FN))*100, 2)\n",
    "print(\"NPV: \", NPV)\n",
    "\n",
    "\"\"\" AUC \"\"\"\n",
    "pass"
   ]
  },
  {
   "cell_type": "markdown",
   "metadata": {},
   "source": [
    "## Save Result (.csv)"
   ]
  },
  {
   "cell_type": "code",
   "execution_count": 22,
   "metadata": {},
   "outputs": [],
   "source": [
    "from itertools import zip_longest\n",
    "import csv \n",
    "\n",
    "###################################################################\n",
    "##################################################################\n",
    "lists = [y_pred_prob0, y_pred_prob1, y_pred_prob2, y_pred_prob3, y_pred_prob4, y_pred_prob5, y_pred_prob6, y_pred, y_test_mod] ### ID 추가!\n",
    "export_data = zip_longest(*lists, fillvalue = '')\n",
    "with open('./Result/result_csv/' + save_csv, 'w') as f:\n",
    "    writer = csv.writer(f)\n",
    "    writer.writerow((\"Prob0\", \"Prob1\", \"Prob2\", \"Prob3\", \"Prob4\", \"Prob5\", \"Prob6\", \"Pred\", \"GT\")) ###\n",
    "    writer.writerows(export_data)\n",
    "###################################################################\n",
    "###################################################################"
   ]
  },
  {
   "cell_type": "markdown",
   "metadata": {},
   "source": [
    "## Check Result"
   ]
  },
  {
   "cell_type": "code",
   "execution_count": 27,
   "metadata": {},
   "outputs": [
    {
     "data": {
      "text/html": [
       "<div>\n",
       "<style scoped>\n",
       "    .dataframe tbody tr th:only-of-type {\n",
       "        vertical-align: middle;\n",
       "    }\n",
       "\n",
       "    .dataframe tbody tr th {\n",
       "        vertical-align: top;\n",
       "    }\n",
       "\n",
       "    .dataframe thead th {\n",
       "        text-align: right;\n",
       "    }\n",
       "</style>\n",
       "<table border=\"1\" class=\"dataframe\">\n",
       "  <thead>\n",
       "    <tr style=\"text-align: right;\">\n",
       "      <th></th>\n",
       "      <th>Prob0</th>\n",
       "      <th>Prob1</th>\n",
       "      <th>Prob2</th>\n",
       "      <th>Prob3</th>\n",
       "      <th>Prob4</th>\n",
       "      <th>Prob5</th>\n",
       "      <th>Prob6</th>\n",
       "      <th>Pred</th>\n",
       "      <th>GT</th>\n",
       "    </tr>\n",
       "  </thead>\n",
       "  <tbody>\n",
       "    <tr>\n",
       "      <th>0</th>\n",
       "      <td>0.043</td>\n",
       "      <td>0.196</td>\n",
       "      <td>0.163</td>\n",
       "      <td>0.298</td>\n",
       "      <td>0.115</td>\n",
       "      <td>0.055</td>\n",
       "      <td>0.130</td>\n",
       "      <td>3</td>\n",
       "      <td>0</td>\n",
       "    </tr>\n",
       "    <tr>\n",
       "      <th>1</th>\n",
       "      <td>0.876</td>\n",
       "      <td>0.001</td>\n",
       "      <td>0.115</td>\n",
       "      <td>0.000</td>\n",
       "      <td>0.008</td>\n",
       "      <td>0.000</td>\n",
       "      <td>0.001</td>\n",
       "      <td>0</td>\n",
       "      <td>0</td>\n",
       "    </tr>\n",
       "    <tr>\n",
       "      <th>2</th>\n",
       "      <td>0.945</td>\n",
       "      <td>0.000</td>\n",
       "      <td>0.001</td>\n",
       "      <td>0.000</td>\n",
       "      <td>0.005</td>\n",
       "      <td>0.048</td>\n",
       "      <td>0.000</td>\n",
       "      <td>0</td>\n",
       "      <td>0</td>\n",
       "    </tr>\n",
       "    <tr>\n",
       "      <th>3</th>\n",
       "      <td>0.323</td>\n",
       "      <td>0.035</td>\n",
       "      <td>0.262</td>\n",
       "      <td>0.009</td>\n",
       "      <td>0.104</td>\n",
       "      <td>0.115</td>\n",
       "      <td>0.151</td>\n",
       "      <td>0</td>\n",
       "      <td>0</td>\n",
       "    </tr>\n",
       "    <tr>\n",
       "      <th>4</th>\n",
       "      <td>0.983</td>\n",
       "      <td>0.000</td>\n",
       "      <td>0.012</td>\n",
       "      <td>0.000</td>\n",
       "      <td>0.005</td>\n",
       "      <td>0.000</td>\n",
       "      <td>0.000</td>\n",
       "      <td>0</td>\n",
       "      <td>0</td>\n",
       "    </tr>\n",
       "  </tbody>\n",
       "</table>\n",
       "</div>"
      ],
      "text/plain": [
       "   Prob0  Prob1  Prob2  Prob3  Prob4  Prob5  Prob6  Pred  GT\n",
       "0  0.043  0.196  0.163  0.298  0.115  0.055  0.130     3   0\n",
       "1  0.876  0.001  0.115  0.000  0.008  0.000  0.001     0   0\n",
       "2  0.945  0.000  0.001  0.000  0.005  0.048  0.000     0   0\n",
       "3  0.323  0.035  0.262  0.009  0.104  0.115  0.151     0   0\n",
       "4  0.983  0.000  0.012  0.000  0.005  0.000  0.000     0   0"
      ]
     },
     "execution_count": 27,
     "metadata": {},
     "output_type": "execute_result"
    }
   ],
   "source": [
    "import pandas as pd\n",
    "\n",
    "Test_csv_result = pd.read_csv(\"./Result/result_csv/batch1.csv\")\n",
    "Test_csv_result.head()"
   ]
  },
  {
   "cell_type": "markdown",
   "metadata": {},
   "source": [
    "## Homework : ID 추가 / Draw AUC "
   ]
  },
  {
   "cell_type": "code",
   "execution_count": null,
   "metadata": {},
   "outputs": [],
   "source": []
  }
 ],
 "metadata": {
  "kernelspec": {
   "display_name": "Python 3",
   "language": "python",
   "name": "python3"
  },
  "language_info": {
   "codemirror_mode": {
    "name": "ipython",
    "version": 3
   },
   "file_extension": ".py",
   "mimetype": "text/x-python",
   "name": "python",
   "nbconvert_exporter": "python",
   "pygments_lexer": "ipython3",
   "version": "3.6.6"
  }
 },
 "nbformat": 4,
 "nbformat_minor": 2
}
